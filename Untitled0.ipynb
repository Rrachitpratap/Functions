{
  "nbformat": 4,
  "nbformat_minor": 0,
  "metadata": {
    "colab": {
      "provenance": []
    },
    "kernelspec": {
      "name": "python3",
      "display_name": "Python 3"
    },
    "language_info": {
      "name": "python"
    }
  },
  "cells": [
    {
      "cell_type": "markdown",
      "source": [],
      "metadata": {
        "id": "AD0rCQ__bFxT"
      }
    },
    {
      "cell_type": "markdown",
      "source": [
        "# FUNCTIONS"
      ],
      "metadata": {
        "id": "ErQ92CTPbLPw"
      }
    },
    {
      "cell_type": "markdown",
      "source": [
        "1. questions is the question\n",
        "- answer is the answer\n",
        "\n",
        "2. question 2\n",
        "- answer 2\n"
      ],
      "metadata": {
        "id": "1GskooVrcW6_"
      }
    },
    {
      "cell_type": "code",
      "source": [
        "# QUESTION\n",
        "\n",
        "\"\"\"\n",
        "ANSWER\n",
        "\"\"\""
      ],
      "metadata": {
        "id": "4UlUU_NbdGA3"
      },
      "execution_count": null,
      "outputs": []
    }
  ]
}